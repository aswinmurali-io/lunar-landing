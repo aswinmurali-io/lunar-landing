{
 "cells": [
  {
   "cell_type": "code",
   "execution_count": 20,
   "metadata": {},
   "outputs": [],
   "source": [
    "# ! pip install gym\n",
    "# ! pip3 install box2d-py\n",
    "# ! pip install stable-baselines[mpi]==2.10.0 box2d box2d-kengz\n",
    "# ! pip install 'ribs[all]' gym~=0.17.0 Box2D~=2.3.10 tqdm"
   ]
  },
  {
   "cell_type": "code",
   "execution_count": 21,
   "metadata": {},
   "outputs": [],
   "source": [
    "import gym\n",
    "import gym.wrappers\n",
    "\n",
    "import numpy as np\n",
    "\n",
    "import matplotlib.pyplot as plt\n",
    "\n",
    "import torch\n",
    "import torch.nn as nn\n",
    "import torch.nn.functional as F\n",
    "import torch.optim as optim"
   ]
  },
  {
   "cell_type": "code",
   "execution_count": 22,
   "metadata": {},
   "outputs": [],
   "source": [
    "env = gym.make(\"LunarLander-v2\")"
   ]
  },
  {
   "cell_type": "code",
   "execution_count": 23,
   "metadata": {},
   "outputs": [],
   "source": [
    "class Net(nn.Module):\n",
    "    def __init__(self, obs_size, hidden_size, n_actions):\n",
    "        super(Net, self).__init__()\n",
    "        self.fc1 = nn.Linear(obs_size, hidden_size)\n",
    "        self.fc2 = nn.Linear(hidden_size, 256)\n",
    "        self.fc3 = nn.Linear(256, 512)\n",
    "        self.fc4 = nn.Linear(512, n_actions)\n",
    "        \n",
    "    def forward(self, x):\n",
    "        x = F.relu(self.fc1(x))\n",
    "        x = F.relu(self.fc2(x))\n",
    "        x = F.relu(self.fc3(x))\n",
    "        return self.fc4(x)"
   ]
  },
  {
   "cell_type": "code",
   "execution_count": 24,
   "metadata": {},
   "outputs": [],
   "source": [
    "def generate_batch(env, batch_size, timelimit=1000):\n",
    "    activation = nn.Softmax(dim=1)\n",
    "\n",
    "    batch_actions, batch_states, batch_rewards = [], [], []\n",
    "    state = None\n",
    "    for _ in range(batch_size):\n",
    "        states, actions = [], []\n",
    "        total_reward = 0\n",
    "        print(state)\n",
    "        state = env.reset()\n",
    "\n",
    "        for _ in range(timelimit):\n",
    "            # print(state)\n",
    "            state_tensor = torch.FloatTensor([state])\n",
    "            act_probs_v = activation(net(state_tensor))\n",
    "\n",
    "            act_probs = act_probs_v.data.numpy()[0]\n",
    "            action = np.random.choice(len(act_probs), p=act_probs)\n",
    "\n",
    "            new_state, reward, done, _ = env.step(action)\n",
    "\n",
    "            states.append(state)\n",
    "            actions.append(action)\n",
    "\n",
    "            total_reward += reward\n",
    "            state = new_state\n",
    "\n",
    "            if done:\n",
    "                batch_actions.append(actions)\n",
    "                batch_states.append(states)\n",
    "                batch_rewards.append(total_reward)\n",
    "                break\n",
    "\n",
    "    return batch_states, batch_actions, batch_rewards\n"
   ]
  },
  {
   "cell_type": "code",
   "execution_count": 25,
   "metadata": {},
   "outputs": [],
   "source": [
    "def filter_batch(states_batch, actions_batch, rewards_batch, percentile=50):\n",
    "    reward_threshold = np.percentile(rewards_batch, percentile)\n",
    "\n",
    "    good_states, good_actions = [], []\n",
    "\n",
    "    for i in range(len(rewards_batch)):\n",
    "        if rewards_batch[i] > reward_threshold:\n",
    "            for j in range(len(states_batch[i])):\n",
    "                good_states.append(states_batch[i][j])\n",
    "                good_actions.append(actions_batch[i][j])\n",
    "\n",
    "    return good_states, good_actions\n"
   ]
  },
  {
   "cell_type": "code",
   "execution_count": 26,
   "metadata": {},
   "outputs": [],
   "source": [
    "batch_size = 100\n",
    "session_size = 500\n",
    "percentile = 80\n",
    "hidden_size = 200\n",
    "learning_rate = 0.0025\n",
    "completion_score = 200\n",
    "n_states = env.observation_space.shape[0]\n",
    "n_actions = env.action_space.n"
   ]
  },
  {
   "cell_type": "code",
   "execution_count": null,
   "metadata": {},
   "outputs": [],
   "source": [
    "# neural network\n",
    "net = Net(n_states, hidden_size, n_actions)\n",
    "\n",
    "# loss function\n",
    "objective = nn.CrossEntropyLoss()\n",
    "\n",
    "# optimisation function\n",
    "optimizer = optim.Adam(params=net.parameters(), lr=learning_rate)\n",
    "\n",
    "for i in range(session_size):\n",
    "    # generate new sessions\n",
    "    batch_states, batch_actions, batch_rewards = generate_batch(\n",
    "        env, batch_size, timelimit=5000)\n",
    "    elite_states, elite_actions = filter_batch(\n",
    "        batch_states, batch_actions, batch_rewards, percentile)\n",
    "\n",
    "    optimizer.zero_grad()\n",
    "    tensor_states = torch.FloatTensor(elite_states)\n",
    "    tensor_actions = torch.LongTensor(elite_actions)\n",
    "\n",
    "    action_scores_v = net(tensor_states)\n",
    "    loss_v = objective(action_scores_v, tensor_actions)\n",
    "    loss_v.backward()\n",
    "    optimizer.step()\n",
    "\n",
    "    mean_reward, threshold = np.mean(\n",
    "        batch_rewards), np.percentile(batch_rewards, percentile)\n",
    "    print(\"%d: loss=%.3f, reward_mean=%.1f,reward_threshold=%.1f\" %\n",
    "          (i, loss_v.item(), mean_reward, threshold))\n",
    "\n",
    "    if np.mean(batch_rewards) > completion_score:\n",
    "        print(\"Environment has been successfullly completed!\")\n",
    "        break"
   ]
  },
  {
   "cell_type": "code",
   "execution_count": 28,
   "metadata": {},
   "outputs": [
    {
     "data": {
      "text/plain": [
       "[<matplotlib.lines.Line2D at 0x1431a6cd0>]"
      ]
     },
     "execution_count": 28,
     "metadata": {},
     "output_type": "execute_result"
    },
    {
     "data": {
      "image/png": "[encoded data removed]",
      "text/plain": [
       "<Figure size 432x288 with 1 Axes>"
      ]
     },
     "metadata": {
      "needs_background": "light"
     },
     "output_type": "display_data"
    }
   ],
   "source": [
    "plt.plot(batch_rewards)"
   ]
  },
  {
   "cell_type": "code",
   "execution_count": 29,
   "metadata": {},
   "outputs": [
    {
     "data": {
      "text/plain": [
       "[-120.00080349119844,\n",
       " -183.95925560988778,\n",
       " -109.00619803512572,\n",
       " -96.63163403850852,\n",
       " -98.05659895059333,\n",
       " -147.82370388384174,\n",
       " -178.33657284007438,\n",
       " -153.31875607071993,\n",
       " -54.1347491552776,\n",
       " -62.65295966890491,\n",
       " -143.86181820001013,\n",
       " -121.21091318114352,\n",
       " -68.07624575922668,\n",
       " -64.7009802426121,\n",
       " -130.47832144666276,\n",
       " -60.37533933380677,\n",
       " -172.43549791248782,\n",
       " -32.10437592838474,\n",
       " -66.30669564001482,\n",
       " -74.31027274306123,\n",
       " -27.15664063332933,\n",
       " -78.85577432423571,\n",
       " -95.42078705730401,\n",
       " -270.1700006101214,\n",
       " -97.88170325862751,\n",
       " -134.59637800793735,\n",
       " -53.779659249286794,\n",
       " -111.11269414226471,\n",
       " -81.75875016005156,\n",
       " -68.76674024498807,\n",
       " -11.589794515646759,\n",
       " -151.1892575573661,\n",
       " -468.5182163817158,\n",
       " -186.20349026584708,\n",
       " -213.41881104044205,\n",
       " -64.49007380763008,\n",
       " -80.3076719141424,\n",
       " -173.66311638433228,\n",
       " -125.53991169675578,\n",
       " -157.33615677568622,\n",
       " -105.09897987366777,\n",
       " -231.67819807336897,\n",
       " -63.39925084951108,\n",
       " -116.41249008044714,\n",
       " -203.4683881042352,\n",
       " -140.71621072702715,\n",
       " -174.7930908061427,\n",
       " -80.92434757875014,\n",
       " -148.0272791162023,\n",
       " -135.71036030334022,\n",
       " -157.7634231827999,\n",
       " -34.95296260695049,\n",
       " -299.4747983392657,\n",
       " -57.73604671060458,\n",
       " -274.64907426258475,\n",
       " -278.3992742644965,\n",
       " -126.5973391023893,\n",
       " -206.26466585468458,\n",
       " -144.1560358637946,\n",
       " -89.53572400936437,\n",
       " -59.744025345188135,\n",
       " -160.0979600821418,\n",
       " -133.13872358510272,\n",
       " -101.26291456203575,\n",
       " -106.83438166010733,\n",
       " -141.95095570884743,\n",
       " -374.58111387954847,\n",
       " -73.9540392026915,\n",
       " -96.90303148835969,\n",
       " -184.2146542904231,\n",
       " -75.9330598529846,\n",
       " -114.95209468632059,\n",
       " -71.66475532961982,\n",
       " 50.034797693491825,\n",
       " -63.05675233791225,\n",
       " -177.85944659164375,\n",
       " -30.795008463575343,\n",
       " -315.3565603948822,\n",
       " -127.23729893368012,\n",
       " -173.18784167484642,\n",
       " -218.56324389586487,\n",
       " -110.09775188978603,\n",
       " -277.57749449072367,\n",
       " -134.11257829780126,\n",
       " -104.16010584097373,\n",
       " -27.2687463884168,\n",
       " -100.70463884418594,\n",
       " -205.68561574020504,\n",
       " -85.87283673204587,\n",
       " -100.79742835463438,\n",
       " -123.80531973143344,\n",
       " -68.74160935451079,\n",
       " -56.74427956390936,\n",
       " -61.04411818997028,\n",
       " -64.01733624694256,\n",
       " -12.828245768599402,\n",
       " -144.59106494292615,\n",
       " -328.86105798196996,\n",
       " -70.07289835716755,\n",
       " -133.70937175951065]"
      ]
     },
     "execution_count": 29,
     "metadata": {},
     "output_type": "execute_result"
    }
   ],
   "source": [
    "batch_rewards"
   ]
  },
  {
   "cell_type": "code",
   "execution_count": null,
   "metadata": {},
   "outputs": [],
   "source": [
    "env = gym.wrappers.Monitor(env,directory=\"videofinal\", force=True)\n",
    "generate_batch(env, 1, timelimit=500)\n",
    "env.close()"
   ]
  }
 ],
 "metadata": {
  "kernelspec": {
   "display_name": "Python 3.9.7 ('tensorflow')",
   "language": "python",
   "name": "python3"
  },
  "language_info": {
   "codemirror_mode": {
    "name": "ipython",
    "version": 3
   },
   "file_extension": ".py",
   "mimetype": "text/x-python",
   "name": "python",
   "nbconvert_exporter": "python",
   "pygments_lexer": "ipython3",
   "version": "3.9.7"
  },
  "orig_nbformat": 4,
  "vscode": {
   "interpreter": {
    "hash": "4bd624a0593993fe43ac4046b27b898fb2ef75c21c08f81e89e64ea0f51df676"
   }
  }
 },
 "nbformat": 4,
 "nbformat_minor": 2
}
